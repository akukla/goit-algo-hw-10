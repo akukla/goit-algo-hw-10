{
 "cells": [
  {
   "cell_type": "code",
   "execution_count": 3,
   "id": "4e37896a-4cd7-479c-9f4d-9829873d8547",
   "metadata": {},
   "outputs": [
    {
     "name": "stdout",
     "output_type": "stream",
     "text": [
      "Welcome to the CBC MILP Solver \n",
      "Version: 2.10.3 \n",
      "Build Date: Dec 15 2019 \n",
      "\n",
      "command line - /home/alexander/goit/goit-algo-hw-10/.venv/lib/python3.10/site-packages/pulp/solverdir/cbc/linux/64/cbc /tmp/1e638fa6655e494999eb19ef0e848f31-pulp.mps -max -timeMode elapsed -branch -printingOptions all -solution /tmp/1e638fa6655e494999eb19ef0e848f31-pulp.sol (default strategy 1)\n",
      "At line 2 NAME          MODEL\n",
      "At line 3 ROWS\n",
      "At line 11 COLUMNS\n",
      "At line 37 RHS\n",
      "At line 44 BOUNDS\n",
      "At line 51 ENDATA\n",
      "Problem MODEL has 6 rows, 6 columns and 11 elements\n",
      "Coin0008I MODEL read with 0 errors\n",
      "Option for timeMode changed from cpu to elapsed\n",
      "Continuous objective value is 460 - 0.00 seconds\n",
      "Cgl0004I processed model has 0 rows, 0 columns (0 integer (0 of which binary)) and 0 elements\n",
      "Cbc3007W No integer variables - nothing to do\n",
      "Cuts at root node changed objective from -460 to -1.79769e+308\n",
      "Probing was tried 0 times and created 0 cuts of which 0 were active after adding rounds of cuts (0.000 seconds)\n",
      "Gomory was tried 0 times and created 0 cuts of which 0 were active after adding rounds of cuts (0.000 seconds)\n",
      "Knapsack was tried 0 times and created 0 cuts of which 0 were active after adding rounds of cuts (0.000 seconds)\n",
      "Clique was tried 0 times and created 0 cuts of which 0 were active after adding rounds of cuts (0.000 seconds)\n",
      "MixedIntegerRounding2 was tried 0 times and created 0 cuts of which 0 were active after adding rounds of cuts (0.000 seconds)\n",
      "FlowCover was tried 0 times and created 0 cuts of which 0 were active after adding rounds of cuts (0.000 seconds)\n",
      "TwoMirCuts was tried 0 times and created 0 cuts of which 0 were active after adding rounds of cuts (0.000 seconds)\n",
      "ZeroHalf was tried 0 times and created 0 cuts of which 0 were active after adding rounds of cuts (0.000 seconds)\n",
      "\n",
      "Result - Optimal solution found\n",
      "\n",
      "Objective value:                460.00000000\n",
      "Enumerated nodes:               0\n",
      "Total iterations:               0\n",
      "Time (CPU seconds):             0.00\n",
      "Time (Wallclock seconds):       0.00\n",
      "\n",
      "Option for printingOptions changed from normal to all\n",
      "Total time (CPU seconds):       0.00   (Wallclock seconds):       0.00\n",
      "\n",
      "Максимізація загальної кількості продуктів\n",
      "Лимонад: 280.0\n",
      "Фруктовий сік: 180.0\n"
     ]
    }
   ],
   "source": [
    "import pulp\n",
    "\n",
    "# Ініціалізуємо модель\n",
    "model = pulp.LpProblem(\"Maximize_Products\", pulp.LpMaximize)\n",
    "\n",
    "# Оголошуємо змінні рішення\n",
    "lemonade = pulp.LpVariable('Lemonade', lowBound=0, cat='Integer')\n",
    "fruit_juice = pulp.LpVariable('Fruit_Juice', lowBound=0, cat='Integer')\n",
    "\n",
    "water = pulp.LpVariable('Water', lowBound=0, cat='Integer')\n",
    "sugar = pulp.LpVariable('Sugar', lowBound=0, cat='Integer')\n",
    "leamon_juice = pulp.LpVariable('Lemon Juice', lowBound=0, cat='Integer')\n",
    "fruit_puree = pulp.LpVariable('Fruit Puree', lowBound=0, cat='Integer')\n",
    "\n",
    "\n",
    "# Додаємо функцію мети\n",
    "model += (lemonade + fruit_juice)\n",
    "\n",
    "# Додаємо обмеження ресурсів\n",
    "model += (water <= 100, \"Water\")\n",
    "model += (leamon_juice <= 30, \"Lemon Juice\")\n",
    "model += (sugar <= 50, \"Sugar\")\n",
    "model += (fruit_puree <= 40, \"Fruit Puree\")\n",
    "model += (lemonade == 2*water + sugar + leamon_juice, \"Lemonade\")\n",
    "model += (fruit_juice == 2*fruit_puree + water, \"Fruit Juice\")\n",
    "\n",
    "\n",
    "# Вирішуємо модель\n",
    "model.solve()\n",
    "\n",
    "# Виводимо результати\n",
    "print(\"Максимізація загальної кількості продуктів\")\n",
    "print(\"Лимонад:\", pulp.value(lemonade))\n",
    "print(\"Фруктовий сік:\", pulp.value(fruit_juice))\n"
   ]
  }
 ],
 "metadata": {
  "kernelspec": {
   "display_name": "Python 3 (ipykernel)",
   "language": "python",
   "name": "python3"
  },
  "language_info": {
   "codemirror_mode": {
    "name": "ipython",
    "version": 3
   },
   "file_extension": ".py",
   "mimetype": "text/x-python",
   "name": "python",
   "nbconvert_exporter": "python",
   "pygments_lexer": "ipython3",
   "version": "3.10.12"
  }
 },
 "nbformat": 4,
 "nbformat_minor": 5
}
